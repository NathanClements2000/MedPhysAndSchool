{
 "cells": [
  {
   "cell_type": "code",
   "execution_count": 7,
   "id": "0b28ed75",
   "metadata": {},
   "outputs": [],
   "source": [
    "import numpy as np\n",
    "import matplotlib.pyplot as plt\n",
    "from matplotlib.pyplot import figure\n",
    "import matplotlib\n",
    "import scipy\n",
    "from scipy.signal import find_peaks\n",
    "import pandas as pd\n",
    "from skimage.feature import peak_local_max\n",
    "\n",
    "neut=np.zeros((200,200,20))\n",
    "data03=pd.read_csv(\"D:Desktop/thesis/results/neutronphys_withneutrons.csv\",delimiter= ',',comment='#',names=['x','y','z','dose'])\n",
    "for i in np.arange(0,len(data03.dose)):\n",
    "    neut[data03.x[i]][data03.y[i]][data03.z[i]]=data03.dose[i]\n",
    "\n",
    "noneut=np.zeros((200,200,20))\n",
    "data03=pd.read_csv(\"D:Desktop/thesis/results/neutronphys_noneutrons.csv\",delimiter= ',',comment='#',names=['x','y','z','dose'])\n",
    "for i in np.arange(0,len(data03.dose)):\n",
    "    noneut[data03.x[i]][data03.y[i]][data03.z[i]]=data03.dose[i]"
   ]
  },
  {
   "cell_type": "code",
   "execution_count": 11,
   "id": "cee47670",
   "metadata": {
    "scrolled": false
   },
   "outputs": [
    {
     "data": {
      "text/plain": [
       "[<matplotlib.lines.Line2D at 0x240bcd38bb0>]"
      ]
     },
     "execution_count": 11,
     "metadata": {},
     "output_type": "execute_result"
    }
   ],
   "source": [
    "# neut=neut.T\n",
    "# noneut=noneut.T\n",
    "# maxdose=np.max(neut[0])\n",
    "\n",
    "# neut=neut/maxdose\n",
    "# noneut=noneut/maxdose\n",
    "%matplotlib qt\n",
    "figure(1,figsize=(8,8))\n",
    "plt.imshow(neut[0])\n",
    "plt.colorbar()\n",
    "plt.title('With neutrons')\n",
    "\n",
    "figure(2,figsize=(8,8))\n",
    "plt.imshow(noneut[0])\n",
    "plt.colorbar()\n",
    "plt.title('No neutrons')\n",
    "\n",
    "figure(3,figsize=(8,8))\n",
    "plt.imshow(neut[0]-noneut[0])\n",
    "plt.colorbar()\n",
    "plt.title('Neutrons - no neutrons')\n",
    "\n",
    "figure(4,figsize=(8,8))\n",
    "plt.plot(neut[0][100]-noneut[0][100])"
   ]
  },
  {
   "cell_type": "code",
   "execution_count": null,
   "id": "b042e92c",
   "metadata": {},
   "outputs": [],
   "source": []
  },
  {
   "cell_type": "code",
   "execution_count": null,
   "id": "fbee0497",
   "metadata": {},
   "outputs": [],
   "source": []
  },
  {
   "cell_type": "code",
   "execution_count": null,
   "id": "9926f1eb",
   "metadata": {},
   "outputs": [],
   "source": [
    "\n"
   ]
  },
  {
   "cell_type": "code",
   "execution_count": 59,
   "id": "e48c98d7",
   "metadata": {
    "scrolled": false
   },
   "outputs": [
    {
     "name": "stdout",
     "output_type": "stream",
     "text": [
      "[116, 126]\n",
      "30.024085633670666\n"
     ]
    }
   ],
   "source": []
  },
  {
   "cell_type": "code",
   "execution_count": null,
   "id": "25c2a9ad",
   "metadata": {},
   "outputs": [],
   "source": []
  },
  {
   "cell_type": "code",
   "execution_count": null,
   "id": "a43d3f26",
   "metadata": {},
   "outputs": [],
   "source": []
  },
  {
   "cell_type": "code",
   "execution_count": null,
   "id": "b2474db9",
   "metadata": {},
   "outputs": [],
   "source": []
  },
  {
   "cell_type": "code",
   "execution_count": null,
   "id": "67a5be3c",
   "metadata": {},
   "outputs": [],
   "source": []
  }
 ],
 "metadata": {
  "kernelspec": {
   "display_name": "Python 3 (ipykernel)",
   "language": "python",
   "name": "python3"
  },
  "language_info": {
   "codemirror_mode": {
    "name": "ipython",
    "version": 3
   },
   "file_extension": ".py",
   "mimetype": "text/x-python",
   "name": "python",
   "nbconvert_exporter": "python",
   "pygments_lexer": "ipython3",
   "version": "3.9.7"
  }
 },
 "nbformat": 4,
 "nbformat_minor": 5
}
