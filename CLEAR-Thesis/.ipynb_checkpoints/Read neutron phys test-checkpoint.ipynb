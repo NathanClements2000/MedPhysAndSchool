{
 "cells": [
  {
   "cell_type": "code",
   "execution_count": 57,
   "id": "0b28ed75",
   "metadata": {},
   "outputs": [],
   "source": [
    "import numpy as np\n",
    "import matplotlib.pyplot as plt\n",
    "from matplotlib.pyplot import figure\n",
    "import matplotlib\n",
    "import scipy\n",
    "from scipy.signal import find_peaks\n",
    "import pandas as pd\n",
    "from skimage.feature import peak_local_max\n",
    "\n",
    "all_data={}\n",
    "for j in [200]:\n",
    "    my_array=np.zeros((250,250,400))\n",
    "    data03=pd.read_csv(\"D:Desktop/thesis/results/new_dosetomedium__clear_SFRT_waterphantom\"+str(j)+\"MeV__3.csv\",delimiter= ',',comment='#',names=['x','y','z','dose'])\n",
    "#     for i in np.arange(1,21):\n",
    "#         data1=pd.read_csv(\"D:Desktop/thesis/results/new_dosetomedium__clear_SFRT_waterphantom\"+str(j)+\"MeV__\"+str(i)+\".csv\",delimiter= ',',comment='#',names=['x','y','z','dose'])\n",
    "#         data03.dose=data03.dose + data1.dose\n",
    "    data03.dose=data03.dose/(1.60218e-19)*(8.2*10**-9)#/20\n",
    "    for i in np.arange(0,len(data03.dose)):\n",
    "        my_array[data03.x[i]][data03.y[i]][data03.z[i]]=data03.dose[i]\n",
    "    all_data[j]=np.array(my_array)\n"
   ]
  },
  {
   "cell_type": "code",
   "execution_count": null,
   "id": "cee47670",
   "metadata": {},
   "outputs": [],
   "source": []
  },
  {
   "cell_type": "code",
   "execution_count": null,
   "id": "b042e92c",
   "metadata": {},
   "outputs": [],
   "source": []
  },
  {
   "cell_type": "code",
   "execution_count": null,
   "id": "fbee0497",
   "metadata": {},
   "outputs": [],
   "source": []
  },
  {
   "cell_type": "code",
   "execution_count": null,
   "id": "9926f1eb",
   "metadata": {},
   "outputs": [],
   "source": [
    "\n"
   ]
  },
  {
   "cell_type": "code",
   "execution_count": 59,
   "id": "e48c98d7",
   "metadata": {
    "scrolled": false
   },
   "outputs": [
    {
     "name": "stdout",
     "output_type": "stream",
     "text": [
      "[116, 126]\n",
      "30.024085633670666\n"
     ]
    }
   ],
   "source": [
    "%matplotlib qt\n",
    "from scipy.optimize import curve_fit\n",
    "\n",
    "\n",
    "font = {'family' : 'Arial',\n",
    "        'weight' : 'normal',\n",
    "        'size'   : 20}\n",
    "\n",
    "matplotlib.rc('font', **font)\n",
    "\n",
    "\n",
    "\n",
    "x=np.arange(0,250)*0.001\n",
    "y=np.arange(0,250)*0.001\n",
    "z=(np.arange(52,253)*0.025)*10\n",
    "GRID= all_data[200]#/54.1290383 *13.37597222/(27.3e-9)\n",
    "GRID=GRID.T\n",
    "\n",
    "peaks=[]\n",
    "peaks_std=[]\n",
    "valleys=[]\n",
    "valleys_std=[]\n",
    "\n",
    "figure(1,figsize=(8,8))\n",
    "plt.imshow(GRID[52],cmap='magma',extent=(0,250*0.1,0,250*0.1))\n",
    "plt.xlabel('x (mm)')\n",
    "plt.ylabel('y (mm)')\n",
    "plt.colorbar(label='Gy')\n",
    "\n",
    "\n",
    "xy = peak_local_max(scipy.ndimage.gaussian_filter(GRID[0,100:150,100:150],sigma=1),num_peaks=1)\n",
    "xy=[xy[0,1]+100,xy[0,0]+100]\n",
    "print(xy)\n",
    "for k in np.arange(52,253):    \n",
    "    #Find peak indices\n",
    "    #plot 2d profiles\n",
    "#     figure(k+30,figsize=(8,8))\n",
    "#     profile=GRID[k]\n",
    "#     plt.imshow(profile,vmin=0,vmax=5,cmap='inferno')\n",
    "#     plt.colorbar(shrink=0.6,label='Dose (Gy)')\n",
    "#     plt.scatter(xy[0],xy[1],s=20,c='red')\n",
    "#     plt.xlabel('x (mm)')\n",
    "#     plt.ylabel('y (mm)')\n",
    "    \n",
    "    #ROIs for peaks and valleys + error\n",
    "    peaks.append(np.mean([GRID[k,i,j] for i in np.arange(xy[1]-3,xy[1]+4) for j in np.arange(xy[0]-3,xy[0]+4)]))\n",
    "    peaks_std.append(np.std([GRID[k,i,j] for i in np.arange(xy[1]-3,xy[1]+4) for j in np.arange(xy[0]-3,xy[0]+4)])/np.sqrt(len([GRID[k,i,j] for i in np.arange(xy[1]-3,xy[1]+4) for j in np.arange(xy[0]-3,xy[0]+4)])))\n",
    "    valley_pts=np.sort([GRID[k,i,j] for i in np.arange(xy[1]-20,xy[1]+21) for j in np.arange(xy[0]-20,xy[0]+21)])\n",
    "    valleys.append(np.mean(valley_pts[0:20]))\n",
    "    valleys_std.append(np.std(valley_pts[0:20])/np.sqrt(len(valley_pts[0:20])))\n",
    "peaks=np.array(peaks)\n",
    "peaks_std=np.array(peaks_std)\n",
    "\n",
    "#pvdr\n",
    "pvdr=peaks/np.array(valleys)\n",
    "pvdr_std=pvdr_error=np.sqrt((np.array(peaks_std)/np.array(peaks))**2+(np.array(valleys_std)/np.array(valleys))**2)*pvdr\n",
    "\n",
    "\n",
    "#PDD\n",
    "figure(13+30,figsize=(7,7))\n",
    "plt.plot(z,peaks,marker='o',label='GRID',lw=3,markersize=10)\n",
    "plt.fill_between(z,peaks-peaks_std,peaks+peaks_std,alpha=0.4)\n",
    "plt.grid(c='lightgray')  \n",
    "plt.xlabel('Depth in water (mm)')\n",
    "plt.ylabel('Dose (Gy)')\n",
    "#plt.xlim(z[0]-1,z[-1]+1)\n",
    "#plt.ylim(0,maxdose)\n",
    "plt.title('200 MeV Depth-Dose')\n",
    "plt.legend()\n",
    "\n",
    "\n",
    "#PVDR vs depth\n",
    "figure(13+31,figsize=(10,5))\n",
    "plt.plot(z,pvdr,marker='o',label='Real data',lw=3,markersize=10)\n",
    "plt.fill_between(z,pvdr-pvdr_std/peaks*pvdr,pvdr+pvdr_std/peaks,alpha=0.4)\n",
    "plt.grid(c='lightgray')  \n",
    "plt.xlabel('Depth in water (mm)')\n",
    "plt.ylabel('PVDR')\n",
    "#plt.xlim(z[0]-1,z[-1]+1)\n",
    "#plt.ylim(0,4)\n",
    "plt.title('GRID 200 MeV PVDR')\n",
    "\n",
    "\n",
    "def gaus(x,a,x0,sigma):\n",
    "    return a*np.exp(-(x-x0)**2/(2*sigma**2))\n",
    "\n",
    "def gauss_fit(xdata,ydata):\n",
    "    mean = sum(xdata * ydata) / sum(ydata)\n",
    "    sigma = np.sqrt(sum(ydata * (xdata - mean)**2) / sum(ydata))\n",
    "    popt,pcov = curve_fit(gaus,xdata,ydata,p0=[max(ydata), mean, sigma])\n",
    "    plt.plot(np.arange(0,len(ydata))+(124-50),gaus(xdata,*popt),label='Gaussian fit',lw=3)\n",
    "    print(popt[-1]/0.001)\n",
    "    \n",
    "figure(2)\n",
    "plt.plot(GRID[0][124])\n",
    "gauss_fit(x[124-50:124+50],GRID[0][124][124-50:124+50])\n"
   ]
  },
  {
   "cell_type": "code",
   "execution_count": null,
   "id": "25c2a9ad",
   "metadata": {},
   "outputs": [],
   "source": []
  },
  {
   "cell_type": "code",
   "execution_count": null,
   "id": "a43d3f26",
   "metadata": {},
   "outputs": [],
   "source": []
  },
  {
   "cell_type": "code",
   "execution_count": null,
   "id": "b2474db9",
   "metadata": {},
   "outputs": [],
   "source": []
  },
  {
   "cell_type": "code",
   "execution_count": null,
   "id": "67a5be3c",
   "metadata": {},
   "outputs": [],
   "source": []
  }
 ],
 "metadata": {
  "kernelspec": {
   "display_name": "Python 3 (ipykernel)",
   "language": "python",
   "name": "python3"
  },
  "language_info": {
   "codemirror_mode": {
    "name": "ipython",
    "version": 3
   },
   "file_extension": ".py",
   "mimetype": "text/x-python",
   "name": "python",
   "nbconvert_exporter": "python",
   "pygments_lexer": "ipython3",
   "version": "3.9.7"
  }
 },
 "nbformat": 4,
 "nbformat_minor": 5
}
