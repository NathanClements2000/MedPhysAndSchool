{
 "cells": [
  {
   "cell_type": "code",
   "execution_count": 2,
   "metadata": {},
   "outputs": [
    {
     "name": "stdout",
     "output_type": "stream",
     "text": [
      "C:\\Users\\User\\TIGRE\\Python\n"
     ]
    },
    {
     "name": "stderr",
     "output_type": "stream",
     "text": [
      "fatal: destination path 'TIGRE' already exists and is not an empty directory.\n",
      "INFO: Could not find files for the given pattern(s).\n",
      "Traceback (most recent call last):\n",
      "  File \"setup.py\", line 101, in <module>\n",
      "    CUDA, CUDA_VERSION = locate_cuda()\n",
      "  File \"setup.py\", line 82, in locate_cuda\n",
      "    version = get_cuda_version(cuda_home)\n",
      "  File \"setup.py\", line 36, in get_cuda_version\n",
      "    version_file = os.path.join(cuda_home, \"version.txt\")\n",
      "  File \"C:\\Users\\User\\Anaconda3\\lib\\ntpath.py\", line 76, in join\n",
      "    path = os.fspath(path)\n",
      "TypeError: expected str, bytes or os.PathLike object, not NoneType\n",
      "INFO: Could not find files for the given pattern(s).\n",
      "Traceback (most recent call last):\n",
      "  File \"setup.py\", line 101, in <module>\n",
      "    CUDA, CUDA_VERSION = locate_cuda()\n",
      "  File \"setup.py\", line 82, in locate_cuda\n",
      "    version = get_cuda_version(cuda_home)\n",
      "  File \"setup.py\", line 36, in get_cuda_version\n",
      "    version_file = os.path.join(cuda_home, \"version.txt\")\n",
      "  File \"C:\\Users\\User\\Anaconda3\\lib\\ntpath.py\", line 76, in join\n",
      "    path = os.fspath(path)\n",
      "TypeError: expected str, bytes or os.PathLike object, not NoneType\n"
     ]
    },
    {
     "ename": "ModuleNotFoundError",
     "evalue": "No module named '_Ax'",
     "output_type": "error",
     "traceback": [
      "\u001b[1;31m---------------------------------------------------------------------------\u001b[0m",
      "\u001b[1;31mModuleNotFoundError\u001b[0m                       Traceback (most recent call last)",
      "\u001b[1;32m<ipython-input-2-8b80fc1fcb46>\u001b[0m in \u001b[0;36m<module>\u001b[1;34m\u001b[0m\n\u001b[0;32m      4\u001b[0m \u001b[0mget_ipython\u001b[0m\u001b[1;33m(\u001b[0m\u001b[1;33m)\u001b[0m\u001b[1;33m.\u001b[0m\u001b[0msystem\u001b[0m\u001b[1;33m(\u001b[0m\u001b[1;34m'python setup.py develop'\u001b[0m\u001b[1;33m)\u001b[0m\u001b[1;33m\u001b[0m\u001b[1;33m\u001b[0m\u001b[0m\n\u001b[0;32m      5\u001b[0m \u001b[0mget_ipython\u001b[0m\u001b[1;33m(\u001b[0m\u001b[1;33m)\u001b[0m\u001b[1;33m.\u001b[0m\u001b[0msystem\u001b[0m\u001b[1;33m(\u001b[0m\u001b[1;34m'python setup.py install'\u001b[0m\u001b[1;33m)\u001b[0m\u001b[1;33m\u001b[0m\u001b[1;33m\u001b[0m\u001b[0m\n\u001b[1;32m----> 6\u001b[1;33m \u001b[1;32mimport\u001b[0m \u001b[0mtigre\u001b[0m\u001b[1;33m\u001b[0m\u001b[1;33m\u001b[0m\u001b[0m\n\u001b[0m\u001b[0;32m      7\u001b[0m \u001b[1;32mimport\u001b[0m \u001b[0mnumpy\u001b[0m \u001b[1;32mas\u001b[0m \u001b[0mnp\u001b[0m\u001b[1;33m\u001b[0m\u001b[1;33m\u001b[0m\u001b[0m\n\u001b[0;32m      8\u001b[0m \u001b[1;32mfrom\u001b[0m \u001b[0mtigre\u001b[0m\u001b[1;33m.\u001b[0m\u001b[0mutilities\u001b[0m \u001b[1;32mimport\u001b[0m \u001b[0msample_loader\u001b[0m\u001b[1;33m\u001b[0m\u001b[1;33m\u001b[0m\u001b[0m\n",
      "\u001b[1;32m~\\TIGRE\\Python\\tigre\\__init__.py\u001b[0m in \u001b[0;36m<module>\u001b[1;34m\u001b[0m\n\u001b[0;32m      2\u001b[0m \u001b[1;32mfrom\u001b[0m \u001b[1;33m.\u001b[0m\u001b[0mutilities\u001b[0m\u001b[1;33m.\u001b[0m\u001b[0mgeometry\u001b[0m \u001b[1;32mimport\u001b[0m \u001b[0mgeometry\u001b[0m\u001b[1;33m\u001b[0m\u001b[1;33m\u001b[0m\u001b[0m\n\u001b[0;32m      3\u001b[0m \u001b[1;32mfrom\u001b[0m \u001b[1;33m.\u001b[0m\u001b[0mutilities\u001b[0m\u001b[1;33m.\u001b[0m\u001b[0mgeometry_default\u001b[0m \u001b[1;32mimport\u001b[0m \u001b[0mConeGeometryDefault\u001b[0m \u001b[1;32mas\u001b[0m \u001b[0mgeometry_default\u001b[0m\u001b[1;33m\u001b[0m\u001b[1;33m\u001b[0m\u001b[0m\n\u001b[1;32m----> 4\u001b[1;33m \u001b[1;32mfrom\u001b[0m \u001b[1;33m.\u001b[0m\u001b[0mutilities\u001b[0m\u001b[1;33m.\u001b[0m\u001b[0mAx\u001b[0m \u001b[1;32mimport\u001b[0m \u001b[0mAx\u001b[0m\u001b[1;33m\u001b[0m\u001b[1;33m\u001b[0m\u001b[0m\n\u001b[0m\u001b[0;32m      5\u001b[0m \u001b[1;32mfrom\u001b[0m \u001b[1;33m.\u001b[0m\u001b[0mutilities\u001b[0m\u001b[1;33m.\u001b[0m\u001b[0mAtb\u001b[0m \u001b[1;32mimport\u001b[0m \u001b[0mAtb\u001b[0m\u001b[1;33m\u001b[0m\u001b[1;33m\u001b[0m\u001b[0m\n\u001b[0;32m      6\u001b[0m \u001b[1;32mfrom\u001b[0m \u001b[1;33m.\u001b[0m\u001b[0mutilities\u001b[0m\u001b[1;33m.\u001b[0m\u001b[0mplotproj\u001b[0m \u001b[1;32mimport\u001b[0m \u001b[0mplotproj\u001b[0m\u001b[1;33m,\u001b[0m \u001b[0mplotProj\u001b[0m\u001b[1;33m,\u001b[0m \u001b[0mplotSinogram\u001b[0m\u001b[1;33m\u001b[0m\u001b[1;33m\u001b[0m\u001b[0m\n",
      "\u001b[1;32m~\\TIGRE\\Python\\tigre\\utilities\\Ax.py\u001b[0m in \u001b[0;36m<module>\u001b[1;34m\u001b[0m\n\u001b[0;32m      2\u001b[0m \u001b[1;33m\u001b[0m\u001b[0m\n\u001b[0;32m      3\u001b[0m \u001b[1;32mimport\u001b[0m \u001b[0mnumpy\u001b[0m \u001b[1;32mas\u001b[0m \u001b[0mnp\u001b[0m\u001b[1;33m\u001b[0m\u001b[1;33m\u001b[0m\u001b[0m\n\u001b[1;32m----> 4\u001b[1;33m \u001b[1;32mfrom\u001b[0m \u001b[0m_Ax\u001b[0m \u001b[1;32mimport\u001b[0m \u001b[0m_Ax_ext\u001b[0m\u001b[1;33m\u001b[0m\u001b[1;33m\u001b[0m\u001b[0m\n\u001b[0m\u001b[0;32m      5\u001b[0m \u001b[1;33m\u001b[0m\u001b[0m\n\u001b[0;32m      6\u001b[0m \u001b[1;32mfrom\u001b[0m \u001b[1;33m.\u001b[0m\u001b[0mgpu\u001b[0m \u001b[1;32mimport\u001b[0m \u001b[0mGpuIds\u001b[0m\u001b[1;33m\u001b[0m\u001b[1;33m\u001b[0m\u001b[0m\n",
      "\u001b[1;31mModuleNotFoundError\u001b[0m: No module named '_Ax'"
     ]
    }
   ],
   "source": [
    "!git clone https://github.com/jerichooconnell/TIGRE.git\n",
    "    \n",
    "%cd TIGRE/Python/\n",
    "!python setup.py develop\n",
    "!python setup.py install\n",
    "import tigre\n",
    "import numpy as np\n",
    "from tigre.utilities import sample_loader\n",
    "from tigre.utilities import CTnoise\n",
    "import tigre.algorithms as algs\n",
    "from matplotlib import pyplot as plt"
   ]
  }
 ],
 "metadata": {
  "kernelspec": {
   "display_name": "Python 3",
   "language": "python",
   "name": "python3"
  },
  "language_info": {
   "codemirror_mode": {
    "name": "ipython",
    "version": 3
   },
   "file_extension": ".py",
   "mimetype": "text/x-python",
   "name": "python",
   "nbconvert_exporter": "python",
   "pygments_lexer": "ipython3",
   "version": "3.7.4"
  }
 },
 "nbformat": 4,
 "nbformat_minor": 2
}
