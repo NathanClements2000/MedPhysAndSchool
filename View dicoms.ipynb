{
 "cells": [
  {
   "cell_type": "code",
   "execution_count": 2,
   "id": "3def4d45",
   "metadata": {
    "scrolled": false
   },
   "outputs": [
    {
     "name": "stdout",
     "output_type": "stream",
     "text": [
      "Dataset.file_meta -------------------------------\n",
      "(0002, 0000) File Meta Information Group Length  UL: 176\n",
      "(0002, 0001) File Meta Information Version       OB: b'\\x00\\x01'\n",
      "(0002, 0002) Media Storage SOP Class UID         UI: RT Dose Storage\n",
      "(0002, 0003) Media Storage SOP Instance UID      UI: 2.16.840.1.114362.1.5.6.1.121121.6102256374.313565332.637.1446\n",
      "(0002, 0010) Transfer Syntax UID                 UI: Implicit VR Little Endian\n",
      "(0002, 0012) Implementation Class UID            UI: 1.2.246.352.70.2.1.7\n",
      "-------------------------------------------------\n",
      "(0008, 0005) Specific Character Set              CS: 'ISO_IR 100'\n",
      "(0008, 0012) Instance Creation Date              DA: '20121217'\n",
      "(0008, 0013) Instance Creation Time              TM: '141846.035000'\n",
      "(0008, 0016) SOP Class UID                       UI: RT Dose Storage\n",
      "(0008, 0018) SOP Instance UID                    UI: 2.16.840.1.114362.1.5.6.1.121121.6102256374.313565332.637.1446\n",
      "(0008, 0020) Study Date                          DA: '20120217'\n",
      "(0008, 0021) Series Date                         DA: ''\n",
      "(0008, 0030) Study Time                          TM: '113339'\n",
      "(0008, 0050) Accession Number                    SH: ''\n",
      "(0008, 0060) Modality                            CS: 'RTDOSE'\n",
      "(0008, 0070) Manufacturer                        LO: 'Varian Medical Systems'\n",
      "(0008, 0080) Institution Name                    LO: ''\n",
      "(0008, 0090) Referring Physician's Name          PN: 'IG'\n",
      "(0008, 1030) Study Description                   LO: ''\n",
      "(0008, 103e) Series Description                  LO: 'Eclipse Doses'\n",
      "(0008, 1090) Manufacturer's Model Name           LO: 'ARIA RadOnc'\n",
      "(0010, 0010) Patient's Name                      PN: 'MB_ped'\n",
      "(0010, 0020) Patient ID                          LO: 'ANON31478'\n",
      "(0010, 0030) Patient's Birth Date                DA: ''\n",
      "(0010, 0040) Patient's Sex                       CS: 'M'\n",
      "(0010, 2160) Ethnic Group                        SH: 'Other'\n",
      "(0012, 0062) Patient Identity Removed            CS: 'YES'\n",
      "(0012, 0063) De-identification Method            LO: 'Limited Data Set: MIM.5.6.1.CB21-05'\n",
      "(0018, 0050) Slice Thickness                     DS: None\n",
      "(0018, 1000) Device Serial Number                LO: '0'\n",
      "(0018, 1020) Software Versions                   LO: '10.0.39'\n",
      "(0020, 000d) Study Instance UID                  UI: 2.16.840.1.114362.1.5.6.1.121121.6102256374.313565184.423.1088\n",
      "(0020, 000e) Series Instance UID                 UI: 2.16.840.1.114362.1.5.6.1.121121.6102256374.313565332.637.1447\n",
      "(0020, 0010) Study ID                            SH: 'ANON3478'\n",
      "(0020, 0011) Series Number                       IS: '17'\n",
      "(0020, 0013) Instance Number                     IS: None\n",
      "(0020, 0032) Image Position (Patient)            DS: [104.1370064, 150.4017369, -958.06]\n",
      "(0020, 0037) Image Orientation (Patient)         DS: [1, 0.0, 0.0, 0.0, 1, 0.0]\n",
      "(0020, 0052) Frame of Reference UID              UI: 2.16.840.1.114362.1.5.6.1.121121.6102256374.313565184.423.1090\n",
      "(0020, 1040) Position Reference Indicator        LO: ''\n",
      "(0028, 0002) Samples per Pixel                   US: 1\n",
      "(0028, 0004) Photometric Interpretation          CS: 'MONOCHROME2'\n",
      "(0028, 0008) Number of Frames                    IS: '163'\n",
      "(0028, 0009) Frame Increment Pointer             AT: (3004, 000c)\n",
      "(0028, 0010) Rows                                US: 90\n",
      "(0028, 0011) Columns                             US: 126\n",
      "(0028, 0030) Pixel Spacing                       DS: [2.5, 2.5]\n",
      "(0028, 0100) Bits Allocated                      US: 32\n",
      "(0028, 0101) Bits Stored                         US: 32\n",
      "(0028, 0102) High Bit                            US: 31\n",
      "(0028, 0103) Pixel Representation                US: 0\n",
      "(3004, 0002) Dose Units                          CS: 'GY'\n",
      "(3004, 0004) Dose Type                           CS: 'PHYSICAL'\n",
      "(3004, 000a) Dose Summation Type                 CS: 'PLAN'\n",
      "(3004, 000c) Grid Frame Offset Vector            DS: Array of 163 elements\n",
      "(3004, 000e) Dose Grid Scaling                   DS: '3.5772712e-05'\n",
      "(3004, 0014) Tissue Heterogeneity Correction     CS: ['IMAGE', 'ROI_OVERRIDE']\n",
      "(300c, 0002)  Referenced RT Plan Sequence  1 item(s) ---- \n",
      "   (0008, 1150) Referenced SOP Class UID            UI: RT Plan Storage\n",
      "   (0008, 1155) Referenced SOP Instance UID         UI: 2.16.840.1.114362.1.5.6.1.121121.6102256374.313565184.435.1091\n",
      "   ---------\n",
      "(7fe0, 0010) Pixel Data                          OW: Array of 7393680 elements\n"
     ]
    }
   ],
   "source": [
    "import pydicom\n",
    "from pydicom.data import get_testdata_file\n",
    "import numpy as np\n",
    "import pandas as pd\n",
    "import matplotlib.pyplot as plt\n",
    "from matplotlib.pyplot import figure\n",
    "import matplotlib\n",
    "\n",
    "data=pydicom.dcmread(\"d:/Desktop/SFRT-Topas/vhee/vhee_patient/old_pediatric/RD.2.16.840.1.114362.1.5.6.1.121121.6102256374.313565332.637.1446.dcm\")\n",
    "print(data)\n"
   ]
  }
 ],
 "metadata": {
  "kernelspec": {
   "display_name": "Python 3 (ipykernel)",
   "language": "python",
   "name": "python3"
  },
  "language_info": {
   "codemirror_mode": {
    "name": "ipython",
    "version": 3
   },
   "file_extension": ".py",
   "mimetype": "text/x-python",
   "name": "python",
   "nbconvert_exporter": "python",
   "pygments_lexer": "ipython3",
   "version": "3.9.7"
  }
 },
 "nbformat": 4,
 "nbformat_minor": 5
}
