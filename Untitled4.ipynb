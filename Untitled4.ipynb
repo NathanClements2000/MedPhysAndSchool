{
 "cells": [
  {
   "cell_type": "code",
   "execution_count": 5,
   "metadata": {
    "scrolled": false
   },
   "outputs": [
    {
     "data": {
      "text/plain": [
       "Dataset.file_meta -------------------------------\n",
       "(0002, 0000) File Meta Information Group Length  UL: 172\n",
       "(0002, 0001) File Meta Information Version       OB: b'\\x00\\x01'\n",
       "(0002, 0002) Media Storage SOP Class UID         UI: CT Image Storage\n",
       "(0002, 0003) Media Storage SOP Instance UID      UI: 2.16.840.1.114362.1.5.6.1.121121.6102256374.313565328.875.1443\n",
       "(0002, 0010) Transfer Syntax UID                 UI: Implicit VR Little Endian\n",
       "(0002, 0012) Implementation Class UID            UI: 1.2.246.352.70.2.1.7\n",
       "-------------------------------------------------\n",
       "(0008, 0005) Specific Character Set              CS: 'ISO_IR 100'\n",
       "(0008, 0008) Image Type                          CS: ['ORIGINAL', 'PRIMARY', 'AXIAL', 'AXIAL', 'PQ5000', 'SPIR', 'MARCONI', 'VQ5_0_2']\n",
       "(0008, 0012) Instance Creation Date              DA: '20121217'\n",
       "(0008, 0013) Instance Creation Time              TM: '141843.109000'\n",
       "(0008, 0016) SOP Class UID                       UI: CT Image Storage\n",
       "(0008, 0018) SOP Instance UID                    UI: 2.16.840.1.114362.1.5.6.1.121121.6102256374.313565328.875.1443\n",
       "(0008, 0020) Study Date                          DA: '20120217'\n",
       "(0008, 0021) Series Date                         DA: '20120217'\n",
       "(0008, 0023) Content Date                        DA: '20120217'\n",
       "(0008, 0030) Study Time                          TM: '113339'\n",
       "(0008, 0031) Series Time                         TM: '113339'\n",
       "(0008, 0033) Content Time                        TM: '123018.856000'\n",
       "(0008, 0050) Accession Number                    SH: ''\n",
       "(0008, 0060) Modality                            CS: 'CT'\n",
       "(0008, 0070) Manufacturer                        LO: 'Philips Medical Systems'\n",
       "(0008, 0080) Institution Name                    LO: 'Stanford Radiation Onc.'\n",
       "(0008, 0090) Referring Physician's Name          PN: 'IG'\n",
       "(0008, 1030) Study Description                   LO: ''\n",
       "(0008, 103e) Series Description                  LO: ''\n",
       "(0008, 1090) Manufacturer's Model Name           LO: 'PQ5000'\n",
       "(0010, 0010) Patient's Name                      PN: 'MB_ped'\n",
       "(0010, 0020) Patient ID                          LO: 'ANON31478'\n",
       "(0010, 0030) Patient's Birth Date                DA: ''\n",
       "(0010, 0040) Patient's Sex                       CS: 'M'\n",
       "(0010, 2160) Ethnic Group                        SH: 'Other'\n",
       "(0012, 0062) Patient Identity Removed            CS: 'YES'\n",
       "(0012, 0063) De-identification Method            LO: 'Limited Data Set: MIM.5.6.1.CB21-05'\n",
       "(0018, 0010) Contrast/Bolus Agent                LO: 'Y'\n",
       "(0018, 0050) Slice Thickness                     DS: '2.0'\n",
       "(0018, 0060) KVP                                 DS: '130.0'\n",
       "(0018, 0090) Data Collection Diameter            DS: '480.0'\n",
       "(0018, 1000) Device Serial Number                LO: '0'\n",
       "(0018, 1020) Software Versions                   LO: '5.0.3/5.0.2'\n",
       "(0018, 1100) Reconstruction Diameter             DS: '480.0'\n",
       "(0018, 1120) Gantry/Detector Tilt                DS: '0.0'\n",
       "(0018, 1130) Table Height                        DS: '295.0'\n",
       "(0018, 1140) Rotation Direction                  CS: 'CC'\n",
       "(0018, 1151) X-Ray Tube Current                  IS: '150'\n",
       "(0018, 1152) Exposure                            IS: '9375'\n",
       "(0018, 5100) Patient Position                    CS: 'HFS'\n",
       "(0020, 000d) Study Instance UID                  UI: 2.16.840.1.114362.1.5.6.1.121121.6102256374.313565184.423.1088\n",
       "(0020, 000e) Series Instance UID                 UI: 2.16.840.1.114362.1.5.6.1.121121.6102256374.313565328.427.1273\n",
       "(0020, 0010) Study ID                            SH: 'ANON3478'\n",
       "(0020, 0011) Series Number                       IS: None\n",
       "(0020, 0012) Acquisition Number                  IS: '89'\n",
       "(0020, 0013) Instance Number                     IS: '174'\n",
       "(0020, 0032) Image Position (Patient)            DS: [0.0, 0.0, -958.12]\n",
       "(0020, 0037) Image Orientation (Patient)         DS: [1, 0.0, 0.0, 0.0, 1, 0.0]\n",
       "(0020, 0052) Frame of Reference UID              UI: 2.16.840.1.114362.1.5.6.1.121121.6102256374.313565184.423.1090\n",
       "(0020, 1040) Position Reference Indicator        LO: ''\n",
       "(0020, 1041) Slice Location                      DS: '958.12'\n",
       "(0028, 0002) Samples per Pixel                   US: 1\n",
       "(0028, 0004) Photometric Interpretation          CS: 'MONOCHROME2'\n",
       "(0028, 0010) Rows                                US: 512\n",
       "(0028, 0011) Columns                             US: 512\n",
       "(0028, 0030) Pixel Spacing                       DS: [9.375e-1, 9.375e-1]\n",
       "(0028, 0100) Bits Allocated                      US: 16\n",
       "(0028, 0101) Bits Stored                         US: 12\n",
       "(0028, 0102) High Bit                            US: 11\n",
       "(0028, 0103) Pixel Representation                US: 0\n",
       "(0028, 1050) Window Center                       DS: '40.0'\n",
       "(0028, 1051) Window Width                        DS: '300.0'\n",
       "(0028, 1052) Rescale Intercept                   DS: '-1000.0'\n",
       "(0028, 1053) Rescale Slope                       DS: '1.0'\n",
       "(7fe0, 0010) Pixel Data                          OW: Array of 524288 elements"
      ]
     },
     "execution_count": 5,
     "metadata": {},
     "output_type": "execute_result"
    }
   ],
   "source": [
    "import pydicom\n",
    "from pydicom.data import get_testdata_file\n",
    "import numpy as np\n",
    "# get some test data\n",
    "ds = pydicom.dcmread(\"d:/Desktop/SFRT-Topas/vhee/vhee_patient/old_pediatric/CT.2.16.840.1.114362.1.5.6.1.121121.6102256374.313565328.875.1443.dcm\")\n",
    "ds"
   ]
  },
  {
   "cell_type": "code",
   "execution_count": 2,
   "metadata": {},
   "outputs": [
    {
     "name": "stdout",
     "output_type": "stream",
     "text": [
      "The answer to this is a\n"
     ]
    }
   ],
   "source": [
    "print('The answer to this is a')"
   ]
  },
  {
   "cell_type": "code",
   "execution_count": 5,
   "metadata": {},
   "outputs": [
    {
     "name": "stdout",
     "output_type": "stream",
     "text": [
      "The answer to this is 3\n"
     ]
    }
   ],
   "source": [
    "print('The answer to this is ' + str(a))"
   ]
  },
  {
   "cell_type": "code",
   "execution_count": null,
   "metadata": {},
   "outputs": [],
   "source": []
  }
 ],
 "metadata": {
  "kernelspec": {
   "display_name": "Python 3 (ipykernel)",
   "language": "python",
   "name": "python3"
  },
  "language_info": {
   "codemirror_mode": {
    "name": "ipython",
    "version": 3
   },
   "file_extension": ".py",
   "mimetype": "text/x-python",
   "name": "python",
   "nbconvert_exporter": "python",
   "pygments_lexer": "ipython3",
   "version": "3.9.7"
  }
 },
 "nbformat": 4,
 "nbformat_minor": 2
}
