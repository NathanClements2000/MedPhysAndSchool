{
 "cells": [
  {
   "cell_type": "code",
   "execution_count": 1,
   "metadata": {},
   "outputs": [
    {
     "name": "stdout",
     "output_type": "stream",
     "text": [
      "Populating the interactive namespace from numpy and matplotlib\n",
      "(10000, 1000)\n"
     ]
    },
    {
     "data": {
      "application/vnd.jupyter.widget-view+json": {
       "model_id": "",
       "version_major": 2,
       "version_minor": 0
      },
      "text/plain": [
       "Canvas(toolbar=Toolbar(toolitems=[('Home', 'Reset original view', 'home', 'home'), ('Back', 'Back to previous …"
      ]
     },
     "metadata": {},
     "output_type": "display_data"
    },
    {
     "data": {
      "text/plain": [
       "(array([ 24., 180., 248., 229., 148.,  97.,  45.,  19.,   7.,   3.]),\n",
       " array([ 25.01999201,  41.77753589,  58.53507978,  75.29262367,\n",
       "         92.05016756, 108.80771145, 125.56525534, 142.32279923,\n",
       "        159.08034311, 175.837887  , 192.59543089]),\n",
       " <a list of 10 Patch objects>)"
      ]
     },
     "execution_count": 1,
     "metadata": {},
     "output_type": "execute_result"
    }
   ],
   "source": [
    "%pylab ipympl\n",
    "close(1)\n",
    "X= [0];  Y=[0]; n=10000\n",
    "x=0\n",
    "y=0\n",
    "delta_x= 0.5\n",
    "delta_y= 0.5\n",
    "i=0\n",
    "k=0\n",
    "d= np.zeros((1000,n+1))\n",
    "dist= lambda x,y: sqrt((x**2+y**2))\n",
    "xsamples= np.random.choice([-0.5,0.5],(n,1000))\n",
    "ysamples= np.random.choice([-0.5,0.5],(n,1000))\n",
    "sumsampx= np.sum(xsamples,axis=0)\n",
    "sumsampy= np.sum(ysamples,axis=0)\n",
    "dist= lambda x,y: sqrt((x**2+y**2))\n",
    "finaldist=dist(sumsampx,sumsampy)\n",
    "#print(finaldist)\n",
    "xpoints=np.cumsum(xsamples,axis=0)\n",
    "ypoints=np.cumsum(ysamples,axis=0)\n",
    "print(xpoints.shape)\n",
    "distances= dist(xpoints,ypoints)\n",
    "maxdist=np.max(distances,axis=0)\n",
    "#print(maxdist)\n",
    "hist(finaldist,alpha=0.5)\n",
    "hist(maxdist,alpha=0.5)\n",
    "close(1)\n"
   ]
  },
  {
   "cell_type": "code",
   "execution_count": 26,
   "metadata": {
    "scrolled": false
   },
   "outputs": [
    {
     "name": "stdout",
     "output_type": "stream",
     "text": [
      "Populating the interactive namespace from numpy and matplotlib\n"
     ]
    },
    {
     "data": {
      "application/vnd.jupyter.widget-view+json": {
       "model_id": "",
       "version_major": 2,
       "version_minor": 0
      },
      "text/plain": [
       "Canvas(toolbar=Toolbar(toolitems=[('Home', 'Reset original view', 'home', 'home'), ('Back', 'Back to previous …"
      ]
     },
     "metadata": {},
     "output_type": "display_data"
    },
    {
     "data": {
      "application/vnd.jupyter.widget-view+json": {
       "model_id": "",
       "version_major": 2,
       "version_minor": 0
      },
      "text/plain": [
       "Canvas(toolbar=Toolbar(toolitems=[('Home', 'Reset original view', 'home', 'home'), ('Back', 'Back to previous …"
      ]
     },
     "metadata": {},
     "output_type": "display_data"
    },
    {
     "data": {
      "text/plain": [
       "[<matplotlib.lines.Line2D at 0x1f908ab5c48>]"
      ]
     },
     "execution_count": 26,
     "metadata": {},
     "output_type": "execute_result"
    }
   ],
   "source": [
    "%pylab ipympl\n",
    "close(1)\n",
    "p= 4\n",
    "rmaxhist=[]\n",
    "logvalues=[]\n",
    "while p<14:\n",
    "    n=2**p\n",
    "    n=int(n)\n",
    "    dist= lambda x,y: sqrt((x**2+y**2))\n",
    "    xsamples= np.random.choice([-0.5,0.5],(n,1000))\n",
    "    ysamples= np.random.choice([-0.5,0.5],(n,1000))\n",
    "    sumsampx= np.sum(xsamples,axis=0)\n",
    "    sumsampy= np.sum(ysamples,axis=0)\n",
    "    dist= lambda x,y: sqrt((x**2+y**2))\n",
    "    finaldist=dist(sumsampx,sumsampy)\n",
    "    #print(finaldist)\n",
    "    xpoints=np.cumsum(xsamples,axis=0)\n",
    "    ypoints=np.cumsum(ysamples,axis=0)\n",
    "    #print(xpoints.shape)\n",
    "    distances= dist(xpoints,ypoints)\n",
    "    maxdist=np.max(distances,axis=0)\n",
    "    #print(maxdist)\n",
    "    y,x,_ = hist(maxdist,alpha=0.5)\n",
    "    rmaxhist.append(max(y))\n",
    "    logvalues.append(log10(2**p))\n",
    "    p+=1\n",
    "p= linspace(4,13)\n",
    "close(1)\n",
    "plot(logvalues,rmaxhist)"
   ]
  },
  {
   "cell_type": "code",
   "execution_count": 33,
   "metadata": {
    "scrolled": false
   },
   "outputs": [
    {
     "name": "stdout",
     "output_type": "stream",
     "text": [
      "Populating the interactive namespace from numpy and matplotlib\n"
     ]
    },
    {
     "data": {
      "application/vnd.jupyter.widget-view+json": {
       "model_id": "09609e27b08e43e3ad3d049e6c6553c0",
       "version_major": 2,
       "version_minor": 0
      },
      "text/plain": [
       "Canvas(toolbar=Toolbar(toolitems=[('Home', 'Reset original view', 'home', 'home'), ('Back', 'Back to previous …"
      ]
     },
     "metadata": {},
     "output_type": "display_data"
    },
    {
     "name": "stdout",
     "output_type": "stream",
     "text": [
      "(10000, 1000)\n"
     ]
    },
    {
     "data": {
      "application/vnd.jupyter.widget-view+json": {
       "model_id": "ae1d797ae5b248e6a742a09d0e1f3f07",
       "version_major": 2,
       "version_minor": 0
      },
      "text/plain": [
       "Canvas(toolbar=Toolbar(toolitems=[('Home', 'Reset original view', 'home', 'home'), ('Back', 'Back to previous …"
      ]
     },
     "metadata": {},
     "output_type": "display_data"
    }
   ],
   "source": [
    "%pylab ipympl\n",
    "close(1)\n",
    "n= 10000\n",
    "dist= lambda x,y: sqrt((x**2+y**2))\n",
    "xsamples= np.random.choice([-0.5,0.5],(n,1000))\n",
    "ysamples= np.random.choice([-0.5,0.5],(n,1000))\n",
    "sumsampx= np.sum(xsamples,axis=0)\n",
    "sumsampy= np.sum(ysamples,axis=0)\n",
    "dist= lambda x,y: sqrt((x**2+y**2))\n",
    "finaldist=dist(sumsampx,sumsampy)\n",
    "#print(finaldist)\n",
    "xpoints=np.cumsum(xsamples,axis=0)\n",
    "ypoints=np.cumsum(ysamples,axis=0)\n",
    "#print(xpoints.shape)\n",
    "distances= dist(xpoints,ypoints)\n",
    "maxdist=np.max(distances,axis=0)\n",
    "#print(maxdist)\n",
    "figure(1)\n",
    "hist(finaldist,alpha=0.5)\n",
    "hist(maxdist,alpha=0.5)\n",
    "#plot(distances,range(0,n,100))\n",
    "i=0;\n",
    "print(distances.shape)\n",
    "for z in range(10):\n",
    "    figure(2)\n",
    "    plot(range(n),distances[:,i])\n",
    "    i+=100"
   ]
  },
  {
   "cell_type": "code",
   "execution_count": null,
   "metadata": {},
   "outputs": [],
   "source": []
  }
 ],
 "metadata": {
  "kernelspec": {
   "display_name": "Python 3",
   "language": "python",
   "name": "python3"
  },
  "language_info": {
   "codemirror_mode": {
    "name": "ipython",
    "version": 3
   },
   "file_extension": ".py",
   "mimetype": "text/x-python",
   "name": "python",
   "nbconvert_exporter": "python",
   "pygments_lexer": "ipython3",
   "version": "3.7.4"
  }
 },
 "nbformat": 4,
 "nbformat_minor": 2
}
