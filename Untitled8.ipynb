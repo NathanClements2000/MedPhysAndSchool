{
 "cells": [
  {
   "cell_type": "code",
   "execution_count": null,
   "metadata": {},
   "outputs": [],
   "source": [
    "## import numpy as np\n",
    "import matplotlib.pyplot as plt\n",
    "from numpy import genfromtxt\n",
    "from matplotlib.pyplot import figure\n",
    "from skimage.transform import iradon\n",
    "import matplotlib\n",
    "import astra\n",
    "%matplotlib inline\n",
    "\n",
    "x=np.linspace(0,151.05,1024)\n",
    "#Vial 1\n",
    "counts_1mmAl = genfromtxt(\"Desktop/CT imaging/7-6-2021/1mm_Al_acq16.mca\", skip_header=12,skip_footer=71)\n",
    "counts_2mmAl = genfromtxt(\"Desktop/CT imaging/7-6-2021/2mm_Al_acq16.mca\", skip_header=12,skip_footer=71)\n",
    "counts_1mmCu = genfromtxt(\"Desktop/CT imaging/7-6-2021/1mm_Cu_acq16.mca\", skip_header=12,skip_footer=71)\n",
    "counts_1mmAlCu = genfromtxt(\"Desktop/CT imaging/7-6-2021/1mm_AlCu_acq16.mca\", skip_header=12,skip_footer=71)\n",
    "\n",
    "figure(1,figsize=(9,8))\n",
    "plt.plot(x,counts_1mmAl,label='1mm Al')\n",
    "plt.plot(x,counts_2mmAl,label='2mm Al')\n",
    "plt.plot(x,counts_1mmCu,label='1mm Cu')\n",
    "plt.plot(x,counts_1mmAlCu,label='1mm Cu + 1mm Al')\n",
    "plt.title('Vial 1 spectra for different filters')\n",
    "plt.grid(linestyle='--',c='darkgray')\n",
    "plt.xlabel('Energy (keV)')\n",
    "plt.ylabel('Counts') \n",
    "plt.legend()\n",
    "\n",
    "bin_width=1\n",
    "new_x=np.arange(0,151.05,bin_width)\n",
    "new_counts_1mmAl=np.interp(new_x,x,counts_1mmAl)\n",
    "new_counts_2mmAl=np.interp(new_x,x,counts_2mmAl)\n",
    "new_counts_1mmCu=np.interp(new_x,x,counts_1mmCu)\n",
    "new_counts_1mmAlCu=np.interp(new_x,x,counts_1mmAlCu)\n",
    "\n",
    "figure(2,figsize=(9,8))\n",
    "plt.plot(new_x,new_counts_1mmAl,label='1mm Al')\n",
    "plt.plot(new_x,new_counts_2mmAl,label='2mm Al')\n",
    "plt.plot(new_x,new_counts_1mmCu,label='1mm Cu')\n",
    "plt.plot(new_x,new_counts_1mmAlCu,label='1mm Cu + 1mm Al')\n",
    "plt.title('Vial 1 spectra for different filters')\n",
    "plt.grid(linestyle='--',c='darkgray')\n",
    "plt.xlabel('Energy (keV)')\n",
    "plt.ylabel('Counts') \n",
    "plt.legend()\n"
   ]
  }
 ],
 "metadata": {
  "kernelspec": {
   "display_name": "Python 3",
   "language": "python",
   "name": "python3"
  },
  "language_info": {
   "codemirror_mode": {
    "name": "ipython",
    "version": 3
   },
   "file_extension": ".py",
   "mimetype": "text/x-python",
   "name": "python",
   "nbconvert_exporter": "python",
   "pygments_lexer": "ipython3",
   "version": "3.7.4"
  }
 },
 "nbformat": 4,
 "nbformat_minor": 2
}
