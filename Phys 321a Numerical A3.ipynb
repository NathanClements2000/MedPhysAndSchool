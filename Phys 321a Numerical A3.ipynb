{
 "cells": [
  {
   "cell_type": "code",
   "execution_count": 73,
   "metadata": {},
   "outputs": [
    {
     "name": "stdout",
     "output_type": "stream",
     "text": [
      "scattering angle (deg) = [0.87789613]\n",
      "recoil_angle (deg) = [-59.09115494]\n",
      "sum of two angles is not 90 deg\n",
      "tot x-momentum (kg m/s):[10.]\n",
      "tot y-momentum (kg m/s):[0.]\n"
     ]
    },
    {
     "data": {
      "image/png": "[encoded data removed]",
      "text/plain": [
       "<Figure size 504x504 with 1 Axes>"
      ]
     },
     "metadata": {
      "needs_background": "light"
     },
     "output_type": "display_data"
    }
   ],
   "source": [
    "import matplotlib.pyplot as plt\n",
    "from scipy.integrate import odeint\n",
    "import numpy as np\n",
    "from matplotlib.pyplot import figure\n",
    "\n",
    "#a)\n",
    "\n",
    "def model(z,t):\n",
    "    k=1\n",
    "    b=1\n",
    "    x1,x1_,y1,y1_,x2,x2_,y2,y2_=z\n",
    "    r = np.sqrt((x2-x1)**2+(y2-y1)**2)\n",
    "    fac=k*b**2/r\n",
    "     \n",
    "    dz_dt = [x1_,-fac*(x2-x1)/r,y1_,-fac*(y2-y1)/r,x2_,fac*(x2-x1)/r,y2_,fac*(y2-y1)/r]\n",
    "    return dz_dt\n",
    "\n",
    "t1= np.arange(0,2.025,step=0.001)\n",
    "sol = odeint(model,[-10,10,0.5,0,0,0,-0.5,0],t1)\n",
    "\n",
    "figure(1,figsize=(7,7))\n",
    "plt.plot(sol[:,0],sol[:,2],label='m1')\n",
    "plt.plot(sol[:,4],sol[:,6],label='m2')\n",
    "plt.xlabel('x dist (m)')\n",
    "plt.ylabel('y dist (m)')\n",
    "plt.legend()\n",
    "#using trial and error from the printed value below I found t~2.025 was when the seperation became ~10m\n",
    "#print(np.sqrt((sol[-1:,4]-sol[-1,0])**2+(sol[-1:,6]-sol[-1,2])**2))\n",
    "\n",
    "#b)\n",
    "scattering_angle=np.arctan((sol[-1:,2]-0.5)/(sol[-1:,0]+10))\n",
    "print(\"scattering angle (deg) = \"+str(scattering_angle*180/np.pi))\n",
    "recoil_angle=np.arctan((sol[-1:,6]+0.5)/(sol[-1:,4]))\n",
    "print(\"recoil_angle (deg) = \"+str(recoil_angle*180/np.pi))\n",
    "print('sum of two angles is not 90 deg')\n",
    "\n",
    "#c)\n",
    "#x direction (should equal 10 kg m/s):\n",
    "print('tot x-momentum (kg m/s):'+str(sol[-1:,1]+sol[-1:,5]))\n",
    "#y direction (should equal 0 kg m/s)\n",
    "print('tot y-momentum (kg m/s):'+str(sol[-1:,3]+sol[-1:,7]))"
   ]
  },
  {
   "cell_type": "code",
   "execution_count": null,
   "metadata": {},
   "outputs": [],
   "source": []
  }
 ],
 "metadata": {
  "kernelspec": {
   "display_name": "Python 3",
   "language": "python",
   "name": "python3"
  },
  "language_info": {
   "codemirror_mode": {
    "name": "ipython",
    "version": 3
   },
   "file_extension": ".py",
   "mimetype": "text/x-python",
   "name": "python",
   "nbconvert_exporter": "python",
   "pygments_lexer": "ipython3",
   "version": "3.7.4"
  }
 },
 "nbformat": 4,
 "nbformat_minor": 2
}
