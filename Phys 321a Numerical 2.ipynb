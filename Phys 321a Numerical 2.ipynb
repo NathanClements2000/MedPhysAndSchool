{
 "cells": [
  {
   "cell_type": "code",
   "execution_count": 1,
   "metadata": {},
   "outputs": [],
   "source": [
    "import numpy as np\n",
    "from matplotlib import pyplot as plt\n",
    "from matplotlib.pyplot import figure\n",
    "from sympy import *\n",
    "import scipy as sp\n",
    "\n",
    "init_printing(pretty_print=True)\n",
    "x, r, R, theta, mu, G, M, g = symbols('x r R theta mu G M g')\n",
    "n = symbols('n', integer=True)\n",
    "f, genfun, phi = symbols('f genfun phi', cls=Function)\n",
    "\n",
    "genfun = 1/sqrt(1+x**2-2*x*cos(theta))\n"
   ]
  },
  {
   "cell_type": "code",
   "execution_count": null,
   "metadata": {},
   "outputs": [],
   "source": [
    "genfun.series(x,0,4)\n",
    "getfunc_trunc = (genfun.series(x,0,4)).removeO()\n",
    "getfunc_trunc"
   ]
  },
  {
   "cell_type": "code",
   "execution_count": null,
   "metadata": {},
   "outputs": [],
   "source": [
    "\n",
    "coeff = [getfunc_trunc.coeff(x,i).factor() for i in range(4)]\n",
    "coeff"
   ]
  }
 ],
 "metadata": {
  "kernelspec": {
   "display_name": "Python 3",
   "language": "python",
   "name": "python3"
  },
  "language_info": {
   "codemirror_mode": {
    "name": "ipython",
    "version": 3
   },
   "file_extension": ".py",
   "mimetype": "text/x-python",
   "name": "python",
   "nbconvert_exporter": "python",
   "pygments_lexer": "ipython3",
   "version": "3.7.4"
  }
 },
 "nbformat": 4,
 "nbformat_minor": 2
}
