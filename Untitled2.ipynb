{
 "cells": [
  {
   "cell_type": "code",
   "execution_count": null,
   "metadata": {},
   "outputs": [],
   "source": [
    "%pylab ipympl\n",
    "from multiprocessing import Pool\n",
    "ff = lambda x: np.sin(x**0.9)\n",
    "g = lambda x: np.cos(2*x+x**0.5)\n",
    "x = linspace(0,50,1000)\n",
    "close(1)\n",
    "figure(1)\n",
    "#plot(ff(x),g(x))\n",
    "\n",
    "ifig=1;close(ifig);figure(ifig)\n",
    "\n",
    "fact = linspace(0,5,961)\n",
    "def makeimage(i):\n",
    "    ifig=1;close(ifig);figure(ifig)\n",
    "    scatter(ff(x[0+i:40+i]),g(x[0+i:40+i]),s=(x)*70,c=np.arange(40))\n",
    "    ylabel('$g(x)$'), xlabel('$f(x)$')\n",
    "    savefig('snake'+str(i).zfill(4)+\".png\")\n",
    "               \n",
    "p = Pool(10)\n",
    "p.map(makeimage,enumerate(fact))"
   ]
  },
  {
   "cell_type": "code",
   "execution_count": null,
   "metadata": {},
   "outputs": [],
   "source": []
  }
 ],
 "metadata": {
  "kernelspec": {
   "display_name": "Python 3",
   "language": "python",
   "name": "python3"
  },
  "language_info": {
   "codemirror_mode": {
    "name": "ipython",
    "version": 3
   },
   "file_extension": ".py",
   "mimetype": "text/x-python",
   "name": "python",
   "nbconvert_exporter": "python",
   "pygments_lexer": "ipython3",
   "version": "3.7.4"
  }
 },
 "nbformat": 4,
 "nbformat_minor": 2
}
