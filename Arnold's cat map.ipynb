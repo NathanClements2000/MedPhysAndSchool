{
 "cells": [
  {
   "cell_type": "code",
   "execution_count": 80,
   "id": "3d65349a",
   "metadata": {
    "scrolled": false
   },
   "outputs": [
    {
     "data": {
      "text/plain": [
       "<matplotlib.image.AxesImage at 0x23e9f092220>"
      ]
     },
     "execution_count": 80,
     "metadata": {},
     "output_type": "execute_result"
    },
    {
     "data": {
      "image/png": "[encoded data removed]",
      "text/plain": [
       "<Figure size 576x576 with 1 Axes>"
      ]
     },
     "metadata": {
      "needs_background": "light"
     },
     "output_type": "display_data"
    },
    {
     "data": {
      "image/png": "[encoded data removed]",
      "text/plain": [
       "<Figure size 576x576 with 1 Axes>"
      ]
     },
     "metadata": {
      "needs_background": "light"
     },
     "output_type": "display_data"
    }
   ],
   "source": [
    "import numpy as np\n",
    "from PIL import Image\n",
    "from matplotlib.pyplot import figure\n",
    "\n",
    "\n",
    "#Define Arnold's cat map function\n",
    "def Arncatmap(M,N): \n",
    "    #take number of iterations M, and pixel width/length N of square image \n",
    "    \n",
    "    image=Image.open('D:/Downloads/orange.jpg').resize((N,N)) #read in image and resize to NxN\n",
    "    image= np.asarray(image) #Convert to npy array\n",
    "    oldim=image #variable which will hold image from previous iteration \n",
    "    if M==0: #case of no iterations\n",
    "        return image\n",
    "    for i in np.arange(0,M): #loop through number of iterations\n",
    "        newim=np.zeros((N,N,3),dtype=np.uint8) #empty array for new image\n",
    "        for x in np.arange(0,N): #loop through x\n",
    "            for y in np.arange(0,N): #loop through y\n",
    "                newx= (x+y)%N #Apply transforms\n",
    "                newy= (x+2*y)%N\n",
    "                newim[newy,N-newx-1]=oldim[y,N-x-1] #create new image from old image\n",
    "        oldim=newim #set the new old image for another iteration\n",
    "    return newim\n",
    "\n",
    "def find_og_img(N):\n",
    "    #Takes in pixel width/length N of square image\n",
    "    image=Image.open('D:/Downloads/orange.jpg').resize((N,N))\n",
    "    image= np.asarray(image)\n",
    "    for i in np.arange(1,1000):\n",
    "        if np.all(Arncatmap(i,N)==Arncatmap(0,N))==True:\n",
    "            return i #returns number of iterations until the transformed image is equal to the original image\n",
    "        if i==999:\n",
    "            return(str('Mission failed')) #Returns this if fails\n",
    "\n",
    "\n",
    "# for i in [10,32,124]: #Check the N values that we care about\n",
    "#     print('Number of runs to return to original image for '+str(i)+'*'+str(i)+' case:'+str(find_og_img(i)))\n",
    "\n",
    "    \n",
    "figure(1,figsize=(8,8))\n",
    "plt.imshow(Arncatmap(0,10))\n",
    "\n",
    "figure(2,figsize=(8,8))\n",
    "plt.imshow(Arncatmap(30,10))"
   ]
  },
  {
   "cell_type": "code",
   "execution_count": null,
   "id": "bab24206",
   "metadata": {},
   "outputs": [],
   "source": []
  }
 ],
 "metadata": {
  "kernelspec": {
   "display_name": "Python 3 (ipykernel)",
   "language": "python",
   "name": "python3"
  },
  "language_info": {
   "codemirror_mode": {
    "name": "ipython",
    "version": 3
   },
   "file_extension": ".py",
   "mimetype": "text/x-python",
   "name": "python",
   "nbconvert_exporter": "python",
   "pygments_lexer": "ipython3",
   "version": "3.9.7"
  }
 },
 "nbformat": 4,
 "nbformat_minor": 5
}
